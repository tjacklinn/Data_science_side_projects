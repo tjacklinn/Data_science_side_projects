{
 "cells": [
  {
   "cell_type": "markdown",
   "metadata": {},
   "source": [
    "# Airline Analysis"
   ]
  },
  {
   "cell_type": "markdown",
   "metadata": {},
   "source": [
    "In this project, you'll imagine that you work for a travel agency and need to know the ins and outs of airline prices for your clients. You want to make sure that you can find the best deal for your client and help them to understand how airline prices change based on different factors.\n",
    "\n",
    "You decide to look into your favorite airline. The data include:\n",
    "- `miles`: miles traveled through the flight\n",
    "- `passengers`: number of passengers on the flight\n",
    "- `delay`: take-off delay in minutes\n",
    "- `inflight_meal`: is there a meal included in the flight?\n",
    "- `inflight_entertainment`: are there free entertainment systems for each seat?\n",
    "- `inflight_wifi`: is there complimentary wifi on the flight?\n",
    "- `day_of_week`: day of the week of the flight\n",
    "- `weekend`: did this flight take place on a weekend?\n",
    "- `coach_price`: the average price paid for a coach ticket\n",
    "- `firstclass_price`: the average price paid for first-class seats\n",
    "- `hours`: how many hours the flight took\n",
    "- `redeye`: was this flight a redeye (overnight)?\n",
    "\n",
    "In this project, you'll explore a dataset for the first time and get to know each of these features. Keep in mind that there's no one right way to address each of these questions. The goal is simply to explore and get to know the data using whatever methods come to mind.\n",
    "\n",
    "You will be working in this file. Note that there is the file **Airline Analysis_Solution.ipynb** that contains the solution code for this project. We highly recommend that you complete the project on your own without checking the solution, but feel free to take a look if you get stuck or if you want to compare answers when you're done.\n",
    "\n",
    "In order to get the plots to appear correctly in the notebook, you'll need to show and then clear each plot before creating the next one using the following code:\n",
    "\n",
    "```py\n",
    "plt.show() # Show the plot\n",
    "plt.clf() # Clear the plot\n",
    "```\n",
    "\n",
    "Clearing the plot will not erase the plot from view, it will just create a new space for the following graphic."
   ]
  },
  {
   "cell_type": "markdown",
   "metadata": {},
   "source": [
    "## Univariate Analysis"
   ]
  },
  {
   "cell_type": "markdown",
   "metadata": {},
   "source": [
    "1. What do coach ticket prices look like? What are the high and low values? What would be considered the average? Does $500 seem like a good price for a coach ticket?"
   ]
  },
  {
   "cell_type": "code",
   "execution_count": null,
   "metadata": {},
   "outputs": [],
   "source": [
    "import pandas as pd\n",
    "import numpy as np\n",
    "import seaborn as sns\n",
    "import statsmodels\n",
    "import matplotlib.pyplot as plt\n",
    "import math\n",
    "\n",
    "## Read in Data\n",
    "flight = pd.read_csv(\"flight.csv\")\n",
    "print(flight.head())\n",
    "\n",
    "## Task 1\n",
    "plt.hist(flight.coach_price, bins=20)\n",
    "plt.title(\"Coach price distribution\")\n",
    "plt.show()\n",
    "plt.clf()\n",
    "print(f\"Mean coach price: {np.mean(flight.coach_price)}\")"
   ]
  },
  {
   "cell_type": "markdown",
   "metadata": {},
   "source": [
    "2. Now visualize the coach ticket prices for flights that are 8 hours long. What are the high, low, and average prices for 8-hour-long flights? Does a $500 dollar ticket seem more reasonable than before?"
   ]
  },
  {
   "cell_type": "code",
   "execution_count": null,
   "metadata": {},
   "outputs": [],
   "source": [
    "## Task 2\n",
    "\n",
    "plt.hist(flight.coach_price[flight.hours==8], bins=20)\n",
    "plt.title(\"Coach price distribution for 8-hour flight\")\n",
    "plt.show()\n",
    "plt.clf()\n",
    "print(f\"Mean coach price: {np.mean(flight.coach_price[flight.hours==8])}\")\n"
   ]
  },
  {
   "cell_type": "markdown",
   "metadata": {},
   "source": [
    "3. How are flight delay times distributed? Let's say there is a short amount of time between two connecting flights, and a flight delay would put the client at risk of missing their connecting flight. You want to better understand how often there are large delays so you can correctly set up connecting flights. What kinds of delays are typical?"
   ]
  },
  {
   "cell_type": "code",
   "execution_count": null,
   "metadata": {},
   "outputs": [],
   "source": [
    "## Task 3\n",
    "plt.hist(flight.delay[flight.delay < 50], bins=20)\n",
    "plt.title(\"Delay distribution\")\n",
    "plt.show()\n",
    "plt.clf()\n",
    "print(f\"Mean delay: {np.mean(flight.delay[flight.delay < 50])}\")\n"
   ]
  },
  {
   "cell_type": "markdown",
   "metadata": {},
   "source": [
    "## Bivariate Analysis"
   ]
  },
  {
   "cell_type": "markdown",
   "metadata": {},
   "source": [
    "4. Create a visualization that shows the relationship between coach and first-class prices. What is the relationship between these two prices? Do flights with higher coach prices always have higher first-class prices as well?"
   ]
  },
  {
   "cell_type": "code",
   "execution_count": null,
   "metadata": {},
   "outputs": [],
   "source": [
    "## Task 4\n",
    "#plt.scatter(flight.coach_price, flight.firstclass_price, alpha=0.5)\n",
    "sns.lmplot(x = \"coach_price\", y = \"firstclass_price\", data = flight, line_kws={'color': 'black'}, lowess=True)\n",
    "plt.title(\"Coach and first class prices\")\n",
    "plt.xlabel(\"Coach prices\")\n",
    "plt.ylabel(\"First class prices\")\n",
    "plt.show()\n",
    "plt.clf()\n"
   ]
  },
  {
   "cell_type": "markdown",
   "metadata": {},
   "source": [
    "5. What is the relationship between coach prices and inflight features &mdash; inflight meal, inflight entertainment, and inflight WiFi? Which features are associated with the highest increase in price?"
   ]
  },
  {
   "cell_type": "code",
   "execution_count": null,
   "metadata": {},
   "outputs": [],
   "source": [
    "## Task 5\n",
    "sns.histplot(data=flight, x='coach_price', bins=20, hue='inflight_meal', multiple='stack')\n",
    "plt.title(\"Price distribution with inflight meal\")\n",
    "plt.show()\n",
    "plt.clf()\n",
    "sns.histplot(data=flight, x='coach_price', bins=20, hue='inflight_entertainment', multiple='stack')\n",
    "plt.title(\"Price distribution with inflight entertainment\")\n",
    "plt.show()\n",
    "plt.clf()\n",
    "sns.histplot(data=flight, x='coach_price', bins=20, hue='inflight_wifi', multiple='stack')\n",
    "plt.title(\"Price distribution with inflight WiFi\")\n",
    "plt.show()\n",
    "plt.clf()\n",
    "\n"
   ]
  },
  {
   "cell_type": "markdown",
   "metadata": {},
   "source": [
    "6. How does the number of passengers change in relation to the length of flights?"
   ]
  },
  {
   "cell_type": "code",
   "execution_count": null,
   "metadata": {},
   "outputs": [],
   "source": [
    "## Task 6\n",
    "#plt.scatter(flight.miles, flight.passengers, alpha=0.5)\n",
    "less_than_180 = flight[flight.passengers < 180]\n",
    "more_than_180 = flight[flight.passengers > 180]\n",
    "sns.lmplot(x = \"miles\", y = \"passengers\", data = less_than_180, line_kws={'color': 'black'}, lowess=True)\n",
    "plt.title(\"Miles and passengers on small flights\")\n",
    "plt.xlabel(\"Miles\")\n",
    "plt.ylabel(\"Passengers\")\n",
    "plt.show()\n",
    "plt.clf()\n",
    "sns.lmplot(x = \"miles\", y = \"passengers\", data = more_than_180, line_kws={'color': 'black'}, lowess=True)\n",
    "plt.title(\"Miles and passengers on large flights\")\n",
    "plt.xlabel(\"Miles\")\n",
    "plt.ylabel(\"Passengers\")\n",
    "plt.show()\n",
    "plt.clf()"
   ]
  },
  {
   "cell_type": "markdown",
   "metadata": {},
   "source": [
    "## Multivariate Analysis"
   ]
  },
  {
   "cell_type": "markdown",
   "metadata": {},
   "source": [
    "7. Visualize the relationship between coach and first-class prices on weekends compared to weekdays."
   ]
  },
  {
   "cell_type": "code",
   "execution_count": null,
   "metadata": {},
   "outputs": [],
   "source": [
    "## Task 7\n",
    "sns.scatterplot(x=\"coach_price\", y=\"firstclass_price\", hue=\"weekend\", data=flight)\n",
    "plt.xlabel(\"Coach prices\")\n",
    "plt.ylabel(\"First class prices\")\n",
    "plt.title('Prices on weekend vs weekdays')\n",
    "plt.show()\n",
    "plt.clf()\n",
    "\n",
    "\n"
   ]
  },
  {
   "cell_type": "markdown",
   "metadata": {},
   "source": [
    "8. How do coach prices differ for redeyes and non-redeyes on each day of the week?"
   ]
  },
  {
   "cell_type": "code",
   "execution_count": null,
   "metadata": {},
   "outputs": [],
   "source": [
    "## Task 8\n",
    "sns.histplot(data=flight.loc[flight.redeye == 'Yes'], x='coach_price', bins=20, hue='day_of_week', multiple='layer', alpha=0.5)\n",
    "plt.title(\"Coach price distribution per day for redeye flights\")\n",
    "plt.show()\n",
    "plt.clf()\n",
    "\n",
    "sns.histplot(data=flight.loc[flight.redeye == 'No'], x='coach_price', bins=20, hue='day_of_week', multiple='layer', alpha=0.5)\n",
    "plt.title(\"Coach price distribution per day for non-redeye flights\")\n",
    "plt.show()\n",
    "plt.clf()\n",
    "\n",
    "\n"
   ]
  },
  {
   "cell_type": "code",
   "execution_count": null,
   "metadata": {},
   "outputs": [],
   "source": []
  }
 ],
 "metadata": {
  "kernelspec": {
   "display_name": "Python 3 (ipykernel)",
   "language": "python",
   "name": "python3"
  },
  "language_info": {
   "codemirror_mode": {
    "name": "ipython",
    "version": 3
   },
   "file_extension": ".py",
   "mimetype": "text/x-python",
   "name": "python",
   "nbconvert_exporter": "python",
   "pygments_lexer": "ipython3",
   "version": "3.10.12"
  }
 },
 "nbformat": 4,
 "nbformat_minor": 4
}
