{
 "cells": [
  {
   "cell_type": "markdown",
   "metadata": {},
   "source": [
    "# U.S. Medical Insurance Costs"
   ]
  },
  {
   "cell_type": "markdown",
   "metadata": {},
   "source": [
    "Ideas for analysis\n",
    "- age distribution (all, childless, people with n amount of children)\n",
    "- distribution of costs for people with 0, 1, 2, ... kids \n",
    "- distribution of the regions people live in, do the costs vary between areas, are age distributions between the areas similar?\n",
    "- distribution of BMI vs age "
   ]
  },
  {
   "cell_type": "code",
   "execution_count": null,
   "metadata": {},
   "outputs": [],
   "source": [
    "import pandas as pd\n",
    "\n",
    "# Load data into a DataFrame\n",
    "medical_data = pd.read_csv('insurance.csv')\n",
    "\n",
    "print(medical_data.head())  # Display first few rows"
   ]
  },
  {
   "cell_type": "markdown",
   "metadata": {},
   "source": [
    "1. Age distributions"
   ]
  },
  {
   "cell_type": "code",
   "execution_count": null,
   "metadata": {},
   "outputs": [],
   "source": [
    "import numpy as np\n",
    "import matplotlib.pyplot as plt\n",
    "\n",
    "# Save ages into a list\n",
    "ages = medical_data[\"age\"]\n",
    "\n",
    "# Calculate mean and a median\n",
    "average = np.mean(ages)\n",
    "median = np.median(ages)\n",
    "\n",
    "# Compute data for a histogram and plot it \n",
    "plt.figure(figsize=(6, 5))\n",
    "plt.hist(ages, bins=20, density=False, alpha=0.7, color='b', edgecolor='black')\n",
    "plt.axvline(average, color='r', linestyle='dashed', linewidth=2, label=f'Mean: {average:.1f}')\n",
    "plt.title(\"Age distribution (everyone)\", fontsize=15)\n",
    "plt.ylabel(\"Number of people\", fontsize=15)\n",
    "plt.xlabel(\"Age\", fontsize=15)\n",
    "plt.tight_layout()\n",
    "plt.show()\n",
    "print(f\"Mean: {average:.1f}, Median: {median:.1f}\")"
   ]
  },
  {
   "cell_type": "markdown",
   "metadata": {},
   "source": [
    "The age distribution is mostly even but young people are overrepresented."
   ]
  },
  {
   "cell_type": "markdown",
   "metadata": {},
   "source": [
    "Now checking how much the number of children affects the age distribution. The largest amount of kids in the dataset is 5 which is then also the largest number for which the distributions will be plotted."
   ]
  },
  {
   "cell_type": "code",
   "execution_count": null,
   "metadata": {},
   "outputs": [],
   "source": [
    "# Dividing data based on the number of children\n",
    "childless = medical_data.loc[medical_data[\"children\"] == 0]\n",
    "one_child = medical_data.loc[medical_data[\"children\"] == 1]\n",
    "two_kids = medical_data.loc[medical_data[\"children\"] == 2]\n",
    "three_kids = medical_data.loc[medical_data[\"children\"] == 3]\n",
    "four_kids = medical_data.loc[medical_data[\"children\"] == 4]\n",
    "five_kids = medical_data.loc[medical_data[\"children\"] == 5]\n",
    "\n",
    "# Plotting them into histograms\n",
    "datasets = [childless, one_child, two_kids, three_kids, four_kids, five_kids]\n",
    "fig, axes = plt.subplots(2, 3, figsize=(12, 8))\n",
    "axes = axes.flatten()\n",
    "    \n",
    "for i, data in enumerate(datasets):\n",
    "    ages = data[\"age\"]\n",
    "    mean_age = np.mean(ages)\n",
    "        \n",
    "    axes[i].hist(ages, bins=20, density=False, alpha=0.7, color='b', edgecolor='black', label=f\"Number of kids: {i}\")\n",
    "    axes[i].axvline(mean_age, color='r', linestyle='dashed', linewidth=2, label=f'Mean: {mean_age:.1f}')\n",
    "    \n",
    "    if i % 3 == 0:  # Set y-label only for the first column\n",
    "        axes[i].set_ylabel(\"Number of people\", fontsize=15)        \n",
    "\n",
    "    if i > 2:  # Set x-label only for the second row\n",
    "        axes[i].set_xlabel(\"Age\", fontsize=15)\n",
    "\n",
    "    axes[i].legend()\n",
    "    axes[i].grid()\n",
    "plt.tight_layout()\n",
    "plt.show()\n"
   ]
  },
  {
   "cell_type": "markdown",
   "metadata": {},
   "source": [
    "For childless people, young people are overrepresented and middle-aged people underrepresented. For people who do have kids, the distributions are closer to a bell curve, but for 1 or 2 kids, young people are still overrepresented. For 4 to 5 kids, there seems to be a much smaller number of people, which leads to non-continuous distributions."
   ]
  },
  {
   "cell_type": "markdown",
   "metadata": {},
   "source": [
    "Checking if the amount of kids one has affects the medical charges"
   ]
  },
  {
   "cell_type": "code",
   "execution_count": null,
   "metadata": {},
   "outputs": [],
   "source": [
    "# Plotting a scatterplot to check if there is any type of correlation\n",
    "plt.scatter(medical_data[\"children\"], medical_data[\"charges\"], alpha=0.5)\n",
    "plt.xlabel(\"Kids\")\n",
    "plt.ylabel(\"Charges\")\n",
    "plt.title(\"Kids vs Charges\")\n",
    "plt.show()"
   ]
  },
  {
   "cell_type": "markdown",
   "metadata": {},
   "source": [
    "From the figure, one can see that the distribution for the charges is very wide but it gets more condensed for 4-5 kids. Meaning, people with many kids have smaller medical charges."
   ]
  },
  {
   "cell_type": "markdown",
   "metadata": {},
   "source": [
    "2. Distributions of regions vs costs, regions vs ages"
   ]
  },
  {
   "cell_type": "code",
   "execution_count": null,
   "metadata": {},
   "outputs": [],
   "source": [
    "# First a list of all of the regions included\n",
    "regions = medical_data[\"region\"].unique().tolist()\n",
    "\n",
    "# Calculating and plotting the cost distributions per region\n",
    "fig, axes = plt.subplots(2, 2, figsize=(8, 8))\n",
    "axes = axes.flatten()\n",
    "    \n",
    "for i in range(len(regions)):\n",
    "    data = medical_data.loc[medical_data[\"region\"] == regions[0]]\n",
    "    costs = data[\"charges\"]\n",
    "    mean_charge = np.mean(costs)\n",
    "        \n",
    "    axes[i].hist(costs, bins=20, density=False, alpha=0.7, color='b', edgecolor='black', label=f\"Region: {regions[i]}\")\n",
    "    axes[i].axvline(mean_charge, color='r', linestyle='dashed', linewidth=2, label=f'Mean: {mean_charge:.1f}')\n",
    "    \n",
    "    if i % 2 == 0:  # Set y-label only for the first column\n",
    "        axes[i].set_ylabel(\"Number of people\", fontsize=15)        \n",
    "\n",
    "    if i > 1:  # Set x-label only for the second row\n",
    "        axes[i].set_xlabel(\"Charge\", fontsize=15)\n",
    "\n",
    "    axes[i].legend()\n",
    "    axes[i].grid()\n",
    "plt.tight_layout()\n",
    "plt.show()\n"
   ]
  },
  {
   "cell_type": "markdown",
   "metadata": {},
   "source": [
    "For all regions, the charge distribution looks similar. Mostly lower-end charges but some very high charges skew the distribution so that the mean is quite high."
   ]
  },
  {
   "cell_type": "markdown",
   "metadata": {},
   "source": [
    "Next, regions vs ages"
   ]
  },
  {
   "cell_type": "code",
   "execution_count": null,
   "metadata": {},
   "outputs": [],
   "source": [
    "# Calculating and plotting the age distributions per region\n",
    "fig, axes = plt.subplots(2, 2, figsize=(8, 8))\n",
    "axes = axes.flatten()\n",
    "    \n",
    "for i in range(len(regions)):\n",
    "    data = medical_data.loc[medical_data[\"region\"] == regions[0]]\n",
    "    ages = data[\"age\"]\n",
    "    mean_age = np.mean(ages)\n",
    "        \n",
    "    axes[i].hist(ages, bins=20, density=False, alpha=0.7, color='b', edgecolor='black', label=f\"Region: {regions[i]}\")\n",
    "    axes[i].axvline(mean_age, color='r', linestyle='dashed', linewidth=2, label=f'Mean: {mean_age:.1f}')\n",
    "    \n",
    "    if i % 2 == 0:  # Set y-label only for the first column\n",
    "        axes[i].set_ylabel(\"Number of people\", fontsize=15)        \n",
    "\n",
    "    if i > 1:  # Set x-label only for the second row\n",
    "        axes[i].set_xlabel(\"Age\", fontsize=15)\n",
    "\n",
    "    axes[i].legend()\n",
    "    axes[i].grid()\n",
    "plt.tight_layout()\n",
    "plt.show()\n"
   ]
  },
  {
   "cell_type": "markdown",
   "metadata": {},
   "source": [
    "All of the age distributions look the same, the population included in the data from these regions are similar everywhere."
   ]
  },
  {
   "cell_type": "markdown",
   "metadata": {},
   "source": [
    "3. BMI vs age"
   ]
  },
  {
   "cell_type": "code",
   "execution_count": null,
   "metadata": {},
   "outputs": [],
   "source": [
    "# Plotting a scatterplot to check if there is any type of correlation (plus trend line for linear fit)\n",
    "x = medical_data[\"age\"].to_numpy()\n",
    "y = medical_data[\"bmi\"].to_numpy()\n",
    "# Creating a linear fit\n",
    "slope, intercept = np.polyfit(x, y, 1)\n",
    "# Values for the plot\n",
    "trend_line = slope * x + intercept\n",
    "\n",
    "plt.scatter(x, y, alpha=0.5)\n",
    "plt.plot(x, trend_line, color=\"red\", label=\"Trend Line\")\n",
    "plt.xlabel(\"Age\")\n",
    "plt.ylabel(\"BMI\")\n",
    "plt.title(\"Age vs BMI\")\n",
    "plt.legend()\n",
    "plt.show()"
   ]
  },
  {
   "cell_type": "markdown",
   "metadata": {},
   "source": [
    "The BMI distribution is very wide for all ages, however, one can notice that both the highest and lowest BMI values are from young people, which puts older people closer to chart average values. Overall, there is a slight correlation between age and higher BMI, which can be seen from the linear fit included in the figure."
   ]
  },
  {
   "cell_type": "code",
   "execution_count": null,
   "metadata": {},
   "outputs": [],
   "source": []
  }
 ],
 "metadata": {
  "kernelspec": {
   "display_name": "Python 3 (ipykernel)",
   "language": "python",
   "name": "python3"
  },
  "language_info": {
   "codemirror_mode": {
    "name": "ipython",
    "version": 3
   },
   "file_extension": ".py",
   "mimetype": "text/x-python",
   "name": "python",
   "nbconvert_exporter": "python",
   "pygments_lexer": "ipython3",
   "version": "3.10.12"
  }
 },
 "nbformat": 4,
 "nbformat_minor": 4
}
