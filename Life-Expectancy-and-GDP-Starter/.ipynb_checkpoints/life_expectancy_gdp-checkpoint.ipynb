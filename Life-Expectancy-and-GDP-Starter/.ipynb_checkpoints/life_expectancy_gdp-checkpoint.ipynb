{
 "cells": [
  {
   "cell_type": "markdown",
   "metadata": {},
   "source": [
    "Firstly, we need to check what kind of data we have and define the research questions we want to answer."
   ]
  },
  {
   "cell_type": "code",
   "execution_count": null,
   "metadata": {},
   "outputs": [],
   "source": [
    "import pandas as pd\n",
    "import matplotlib.pyplot as plt\n",
    "import seaborn as sns\n",
    "import scipy.stats as stats\n",
    "import numpy as np\n",
    "\n",
    "data = pd.read_csv('all_data.csv')\n",
    "print(data.head())"
   ]
  },
  {
   "cell_type": "markdown",
   "metadata": {},
   "source": [
    "**So, a few research questions to look into:**\n",
    "1. How much does life expectancy differ by country?\n",
    "2. Is the time-development of life expectancy similar between different countries?\n",
    "3. Is the time-development of the GDP similar between different countries?\n",
    "4. Is there a clear correlation between GDP and life expectancy?"
   ]
  },
  {
   "cell_type": "code",
   "execution_count": null,
   "metadata": {},
   "outputs": [],
   "source": [
    "# Possible values of \"Year\" to find the most recent data\n",
    "print(data[\"Year\"].unique())"
   ]
  },
  {
   "cell_type": "code",
   "execution_count": null,
   "metadata": {},
   "outputs": [],
   "source": [
    "# Let's choose the data from 2015\n",
    "data_2015 = data.loc[data[\"Year\"] == 2015]\n",
    "# Check that the data looks like expected\n",
    "print(data_2015.head())\n",
    "\n",
    "# Then plotting the life expectancy for each country\n",
    "ax = data_2015.plot.bar(x='Country', y='Life expectancy at birth (years)', title='Life expentancy at birth separated by country in 2015')\n",
    "ax.grid(axis='y')\n",
    "ax.set_axisbelow(True)\n",
    "plt.show()\n"
   ]
  },
  {
   "cell_type": "markdown",
   "metadata": {},
   "source": [
    "This answers the first question. In most of the countries included in the data, the life expectancy is around 75-82 years; however, in Zimbabwe, it is around 60."
   ]
  },
  {
   "cell_type": "code",
   "execution_count": null,
   "metadata": {},
   "outputs": [],
   "source": [
    "# Now for the second question. We plot the time development by the country to see if they change similarly\n",
    "# Using only the needed columns\n",
    "plot_df = data[['Year', 'Country', 'Life expectancy at birth (years)']]\n",
    "\n",
    "# Ensure 'Year' is numeric, and sorted for line plotting\n",
    "plot_df = plot_df.sort_values(['Country', 'Year'])\n",
    "\n",
    "# Grouping by country\n",
    "groups = plot_df.groupby('Country')\n",
    "\n",
    "plt.figure(figsize=(10, 6))\n",
    "for name, group in groups:\n",
    "    # Double check: select columns by name, ensure Series, and drop NA for plotting\n",
    "    plt.plot(group['Year'].to_numpy(), group['Life expectancy at birth (years)'].to_numpy(), marker='o', label=name)\n",
    "\n",
    "plt.xlabel('Year')\n",
    "plt.ylabel('Life expectancy at birth (years)')\n",
    "plt.title('Time development of the life expectancy at birth (years) for Each country')\n",
    "plt.legend(title='Country')\n",
    "plt.grid(True)\n",
    "plt.show()"
   ]
  },
  {
   "cell_type": "markdown",
   "metadata": {},
   "source": [
    "We have our answer. For most of the countries included, the life expectancy has been increasing slowly but steadily. Zimbabwe has a stark difference, the life expectancy was declining at first, reached a minimum in 2004, which is below 45 years (30 years less than other countries). After that, the life expectancy has been rapidly increasing, but it is still well below the others at the end of the data set."
   ]
  },
  {
   "cell_type": "code",
   "execution_count": null,
   "metadata": {},
   "outputs": [],
   "source": [
    "# Now, for the time-development of the GDP:\n",
    "# Using only the needed columns\n",
    "plot_df = data[['Year', 'Country', 'GDP']]\n",
    "\n",
    "# Ensure 'Year' is numeric or datetime if appropriate, and sorted for line plotting\n",
    "plot_df = plot_df.sort_values(['Country', 'Year'])\n",
    "\n",
    "# Grouping by country\n",
    "groups = plot_df.groupby('Country')\n",
    "\n",
    "plt.figure(figsize=(10, 6))\n",
    "for name, group in groups:\n",
    "    # Double check: select columns by name, ensure Series, and drop NA for plotting\n",
    "    plt.plot(group['Year'].to_numpy(), group['GDP'].to_numpy(), marker='o', label=name)\n",
    "\n",
    "plt.xlabel('Year')\n",
    "plt.ylabel('GDP')\n",
    "plt.title('Time development of the GDP for Each country')\n",
    "plt.legend(title='Country')\n",
    "plt.grid(True)\n",
    "plt.show()\n",
    "\n",
    "# Compute GDP percentage increase relative to the first year per country\n",
    "plot_df['GDP_pct_increase'] = plot_df.groupby('Country')['GDP'].transform(\n",
    "    lambda x: (x / x.iloc[0] - 1) * 100\n",
    ")\n",
    "\n",
    "# Plot line chart for percentage increase\n",
    "plt.figure(figsize=(10, 6))\n",
    "groups = plot_df.groupby('Country')\n",
    "\n",
    "for name, group in groups:\n",
    "    plt.plot(\n",
    "        group['Year'].to_numpy(),\n",
    "        group['GDP_pct_increase'].to_numpy(),\n",
    "        marker='o',\n",
    "        label=name\n",
    "    )\n",
    "\n",
    "plt.xlabel('Year')\n",
    "plt.ylabel('GDP increase (%) compared to first year')\n",
    "plt.title('GDP percentage growth relative to first year (per country)')\n",
    "plt.legend(title='Country')\n",
    "plt.grid(True)\n",
    "plt.show()"
   ]
  },
  {
   "cell_type": "markdown",
   "metadata": {},
   "source": [
    "There are clear differences between the countries here. Zimbabwe's economy has been stagnant throughout the whole period in the data set, and Chile and Mexico have also had only a little growth in GDP. Germany's GDP grew slightly more, but the USA and China are in their own category in the absolute GDP growth. The financial crisis in 2008-2009 shows up in the USA's GDP and slightly also for Germany and Mexico, but not nearly as pronounced. For other countries included, there is no clear sign of it. Percentage-wise increase compared to the beginning of the dataset makes it clear that even for Zimbabwe, there was a change in GDP, just not at the same scale as for the others. Percentage-wise, the growth has been fastest for China, as its GDP in 2015 was more than eight times that of 2000. In Chile, the GDP growth also exceeded 200%, but in all of the other countries included, it is below that. In Chile, Germany, and Mexico, there is a decrease in 2009, while in Zimbabwe, it was already in 2008. For China and the USA, no percentage-wise decrease in GDP is observed, even though for the USA, there is a decrease in the absolute values."
   ]
  },
  {
   "cell_type": "code",
   "execution_count": null,
   "metadata": {},
   "outputs": [],
   "source": [
    "# Now for the correlation of GDP and Life expectancy\n",
    "# Scatterplot colored by a Country\n",
    "sns.scatterplot(\n",
    "    data=data,\n",
    "    x='GDP',\n",
    "    y='Life expectancy at birth (years)',\n",
    "    hue='Country',          # Replace 'Region' with your actual third variable name\n",
    "    palette='viridis'\n",
    ")\n",
    "plt.xlabel('GDP')\n",
    "plt.ylabel('Life expectancy at birth (years)')\n",
    "plt.title('GDP vs Life expectancy (colored by Country)')\n",
    "plt.grid(True)\n",
    "plt.show()"
   ]
  },
  {
   "cell_type": "markdown",
   "metadata": {},
   "source": [
    "From the scatterplot, we can see that with very low GDP the life expectancy can be anything between 45 to 80 years. With a GDP higher than that there seems to be two different lines of correlation, with the life expectancy increasing at different rates with respect to GDP growth. We can see that for Zimbabwe the correlation is linear as the GDP has stayed zero the whole time, but we'll plot the linear regressions for other countries to check how well they fit into the data."
   ]
  },
  {
   "cell_type": "code",
   "execution_count": null,
   "metadata": {},
   "outputs": [],
   "source": [
    "# Restrict to area of interest \n",
    "restricted_data = data[data['Life expectancy at birth (years)'] > 70]\n",
    "\n",
    "plt.figure(figsize=(10, 6))\n",
    "palette = sns.color_palette(\"tab10\", n_colors=len(restricted_data['Country'].unique()))\n",
    "\n",
    "# Loop through each country\n",
    "for (country, subset), color in zip(restricted_data.groupby('Country'), palette):\n",
    "    x = subset['GDP'].to_numpy()\n",
    "    y = subset['Life expectancy at birth (years)'].to_numpy()\n",
    "    \n",
    "    # Scatter points\n",
    "    plt.scatter(x, y, color=color, alpha=0.6, label=country)\n",
    "    \n",
    "    # Compute regression\n",
    "    slope, intercept, r_value, p_value, std_err = stats.linregress(x, y)\n",
    "    \n",
    "    # Regression line\n",
    "    reg_x = np.linspace(x.min(), x.max(), 100)\n",
    "    reg_y = intercept + slope * reg_x\n",
    "    plt.plot(reg_x, reg_y, color=color, linewidth=2)\n",
    "    \n",
    "    # Annotate equation and R²\n",
    "    xpos, ypos = x.mean(), y.mean()\n",
    "    plt.text(\n",
    "        xpos,\n",
    "        ypos,\n",
    "        f\"{country}\\ny={intercept:.1f}+{slope:.4e}x\\nR²={r_value**2:.3f}\",\n",
    "        color=color,\n",
    "        fontsize=9,\n",
    "        ha='center'\n",
    "    )\n",
    "\n",
    "plt.xlabel('GDP')\n",
    "plt.ylabel('Life expectancy at birth (years)')\n",
    "plt.title('Life expectancy vs GDP by Country (with regression lines)')\n",
    "plt.legend(title='Country', bbox_to_anchor=(1.05, 1), loc='upper left')\n",
    "plt.grid(True)\n",
    "plt.tight_layout()\n",
    "plt.show()"
   ]
  },
  {
   "cell_type": "markdown",
   "metadata": {},
   "source": [
    "As we can see, most of them have fairly linear dependency, with China being the least linear (R²=0.825) though it still is fairly decent description."
   ]
  },
  {
   "cell_type": "markdown",
   "metadata": {},
   "source": [
    "# **Conclusions** #\n",
    "As has now been seen, we know that in the countries included in this data set, the life expectancy is, for most of them, close to 80 years (in 2015), except for Zimbabwe, which has improved the life expectancy to 60, but it's still far behind the others. The life expectancy has had a positive trend, apart from a minimum for Zimbabwe around 2004. \n",
    "\n",
    "Similarly, GDP has been steadily growing for most countries, though the rate of growth is highly dependent on the country. Also, for most countries, temporary stagnation or a decrease in the absolute or percentage-wise time-development of GDP is visible in some years. \n",
    "\n",
    "As for the correlation between GDP and life expectancy, it seems to be almost linear for all of the countries, only with a country-dependent slope and starting point."
   ]
  }
 ],
 "metadata": {
  "kernelspec": {
   "display_name": "Python 3 (ipykernel)",
   "language": "python",
   "name": "python3"
  },
  "language_info": {
   "codemirror_mode": {
    "name": "ipython",
    "version": 3
   },
   "file_extension": ".py",
   "mimetype": "text/x-python",
   "name": "python",
   "nbconvert_exporter": "python",
   "pygments_lexer": "ipython3",
   "version": "3.10.12"
  }
 },
 "nbformat": 4,
 "nbformat_minor": 4
}
